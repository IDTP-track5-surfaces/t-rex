{
 "cells": [
  {
   "cell_type": "code",
   "execution_count": null,
   "metadata": {},
   "outputs": [],
   "source": [
    "import numpy as np\n",
    "import matplotlib.pyplot as plt\n",
    "from scipy.interpolate import BSpline, make_interp_spline\n",
    "\n",
    "# Define control points\n",
    "points = np.array([[0, 0], [1, 2], [2, 3], [3, 2], [4, 1], [5, 0]])\n",
    "\n",
    "# Define degree of the B-spline curve\n",
    "degree = 3\n",
    "\n",
    "# Create a uniform knot vector\n",
    "knots = np.concatenate((np.zeros(degree), np.linspace(0, 1, len(points) - degree + 1), np.ones(degree)))\n",
    "\n",
    "# Create the B-spline\n",
    "bspline = BSpline(knots, points, degree)\n",
    "\n",
    "# Evaluate the B-spline at multiple points\n",
    "t = np.linspace(0, 1, 100)\n",
    "curve = bspline(t)\n",
    "\n",
    "# Plot the control points and the B-spline curve\n",
    "plt.figure()\n",
    "plt.plot(points[:,0], points[:,1], 'ro-', label='Control Points')\n",
    "plt.plot(curve[:,0], curve[:,1], 'b-', label='B-spline Curve')\n",
    "plt.legend()\n",
    "plt.show()"
   ]
  },
  {
   "cell_type": "code",
   "execution_count": 28,
   "metadata": {},
   "outputs": [],
   "source": [
    "# Define control points grid (example 5x5 grid)\n",
    "points = np.array([\n",
    "    [0, 0, 0], [1, 0, 1], [2, 0, 0], [3, 0, -1], [4, 0, 0],\n",
    "    [0, 1, 1], [1, 1, 2], [2, 1, 1], [3, 1, 0], [4, 1, -1],\n",
    "    [0, 2, 0], [1, 2, 1], [2, 2, 2], [3, 2, 1], [4, 2, 0],\n",
    "    [0, 3, -1], [1, 3, 0], [2, 3, 1], [3, 3, 2], [4, 3, 1],\n",
    "    [0, 4, 0], [1, 4, -1], [2, 4, 0], [3, 4, 1], [4, 4, 2]\n",
    "])\n",
    "\n",
    "# Reshape control points into a grid\n",
    "points = points.reshape(5, 5, 3)\n",
    "\n",
    "# Define degree of the B-spline surface\n",
    "degree = 3\n",
    "\n",
    "# Create a uniform knot vector for both u and v directions\n",
    "knot_vector_u = np.concatenate((np.zeros(degree), np.linspace(0, 1, points.shape[0] - degree + 1), np.ones(degree)))\n",
    "knot_vector_v = np.concatenate((np.zeros(degree), np.linspace(0, 1, points.shape[1] - degree + 1), np.ones(degree)))\n",
    "\n",
    "\n",
    "# Create mesh grid for evaluation points\n",
    "u = np.linspace(0, 1, 50)\n",
    "v = np.linspace(0, 1, 50)\n",
    "u, v = np.meshgrid(u, v)\n",
    "\n",
    "# Initialize an array to hold the surface points\n",
    "surface_points = np.zeros((u.shape[0], u.shape[1], 3))"
   ]
  },
  {
   "cell_type": "code",
   "execution_count": 35,
   "metadata": {},
   "outputs": [
    {
     "data": {
      "text/plain": [
       "[array([[0.        , 0.02040816, 0.04081633, ..., 0.95918367, 0.97959184,\n",
       "         1.        ],\n",
       "        [0.        , 0.02040816, 0.04081633, ..., 0.95918367, 0.97959184,\n",
       "         1.        ],\n",
       "        [0.        , 0.02040816, 0.04081633, ..., 0.95918367, 0.97959184,\n",
       "         1.        ],\n",
       "        ...,\n",
       "        [0.        , 0.02040816, 0.04081633, ..., 0.95918367, 0.97959184,\n",
       "         1.        ],\n",
       "        [0.        , 0.02040816, 0.04081633, ..., 0.95918367, 0.97959184,\n",
       "         1.        ],\n",
       "        [0.        , 0.02040816, 0.04081633, ..., 0.95918367, 0.97959184,\n",
       "         1.        ]]),\n",
       " array([[0., 0., 0., ..., 0., 0., 0.],\n",
       "        [0., 0., 0., ..., 0., 0., 0.],\n",
       "        [0., 0., 0., ..., 0., 0., 0.],\n",
       "        ...,\n",
       "        [1., 1., 1., ..., 1., 1., 1.],\n",
       "        [1., 1., 1., ..., 1., 1., 1.],\n",
       "        [1., 1., 1., ..., 1., 1., 1.]])]"
      ]
     },
     "execution_count": 35,
     "metadata": {},
     "output_type": "execute_result"
    }
   ],
   "source": [
    "np.meshgrid(u, v)"
   ]
  },
  {
   "cell_type": "code",
   "execution_count": 40,
   "metadata": {},
   "outputs": [],
   "source": [
    "nx, ny = (5, 4)\n",
    "x = np.linspace(0, 1, nx)\n",
    "y = np.linspace(0, 1, ny)"
   ]
  },
  {
   "cell_type": "code",
   "execution_count": 43,
   "metadata": {},
   "outputs": [
    {
     "data": {
      "text/plain": [
       "array([[0.        , 0.        , 0.        , 0.        , 0.        ],\n",
       "       [0.33333333, 0.33333333, 0.33333333, 0.33333333, 0.33333333],\n",
       "       [0.66666667, 0.66666667, 0.66666667, 0.66666667, 0.66666667],\n",
       "       [1.        , 1.        , 1.        , 1.        , 1.        ]])"
      ]
     },
     "execution_count": 43,
     "metadata": {},
     "output_type": "execute_result"
    }
   ],
   "source": [
    "xv, yv = np.meshgrid(x, y)\n",
    "yv"
   ]
  }
 ],
 "metadata": {
  "kernelspec": {
   "display_name": "IPFD",
   "language": "python",
   "name": "python3"
  },
  "language_info": {
   "codemirror_mode": {
    "name": "ipython",
    "version": 3
   },
   "file_extension": ".py",
   "mimetype": "text/x-python",
   "name": "python",
   "nbconvert_exporter": "python",
   "pygments_lexer": "ipython3",
   "version": "3.12.2"
  }
 },
 "nbformat": 4,
 "nbformat_minor": 2
}
