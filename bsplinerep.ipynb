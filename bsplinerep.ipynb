{
 "cells": [
  {
   "cell_type": "code",
   "execution_count": 89,
   "metadata": {},
   "outputs": [],
   "source": [
    "import numpy as np\n",
    "import matplotlib.pyplot as plt\n",
    "from scipy.interpolate import bisplrep, bisplev\n",
    "\n",
    "#Generate random data points\n",
    "np.random.seed(42)  # For reproducibility\n",
    "x = np.linspace(0, 10, 100)\n",
    "y = np.linspace(0, 10, 100)\n",
    "z = np.random.random((100, 100))\n",
    "\n",
    "# Create a meshgrid from x and y\n",
    "X, Y = np.meshgrid(x, y)\n",
    "\n",
    "# Flatten the meshgrid arrays and z array to pass to bisplrep\n",
    "x_flat = X.flatten()\n",
    "y_flat = Y.flatten()\n",
    "z_flat = z.flatten()"
   ]
  },
  {
   "cell_type": "code",
   "execution_count": 91,
   "metadata": {},
   "outputs": [
    {
     "data": {
      "text/plain": [
       "10000"
      ]
     },
     "execution_count": 91,
     "metadata": {},
     "output_type": "execute_result"
    }
   ],
   "source": [
    "np.size(x_flat)"
   ]
  },
  {
   "cell_type": "code",
   "execution_count": 80,
   "metadata": {},
   "outputs": [],
   "source": [
    "def create_knots(k,n,size=10):\n",
    "    return np.concatenate(\n",
    "        [np.zeros(k),\n",
    "         np.linspace(0,size,n),\n",
    "         (size)*np.ones(k)]\n",
    "    )    \n"
   ]
  },
  {
   "cell_type": "code",
   "execution_count": 96,
   "metadata": {},
   "outputs": [
    {
     "data": {
      "text/plain": [
       "([array([ 0.        ,  0.        ,  0.        ,  0.        ,  1.11111111,\n",
       "          2.22222222,  3.33333333,  4.44444444,  5.55555556,  6.66666667,\n",
       "          7.77777778,  8.88888889, 10.        , 10.        , 10.        ,\n",
       "         10.        ]),\n",
       "  array([ 0.        ,  0.        ,  0.        ,  0.        ,  1.11111111,\n",
       "          2.22222222,  3.33333333,  4.44444444,  5.55555556,  6.66666667,\n",
       "          7.77777778,  8.88888889, 10.        , 10.        , 10.        ,\n",
       "         10.        ]),\n",
       "  array([0.53796595, 0.35448764, 0.11403631, 0.72200063, 0.48618055,\n",
       "         0.37199644, 0.45414237, 0.40571487, 0.29584139, 0.93049172,\n",
       "         0.5091471 , 0.28142972, 0.37867775, 0.52028898, 1.00835209,\n",
       "         0.06989281, 0.81336184, 0.60321688, 0.51865112, 0.42893099,\n",
       "         0.62275471, 0.07770111, 0.66177183, 0.56575889, 0.50581843,\n",
       "         0.58861908, 0.21958515, 0.72714193, 0.23157521, 0.28061359,\n",
       "         0.68404303, 0.58715469, 0.13696189, 1.02238464, 0.07785077,\n",
       "         0.44170272, 0.39191781, 0.6896181 , 0.58806277, 0.41782715,\n",
       "         0.44441791, 0.81725331, 0.25673696, 0.46582097, 0.7626423 ,\n",
       "         0.03334899, 0.99849466, 0.47273056, 0.50414224, 0.33430177,\n",
       "         0.35512417, 0.66227993, 0.52404082, 0.3148777 , 0.53853288,\n",
       "         0.56243685, 0.30114272, 0.76553182, 0.27613135, 0.54816649,\n",
       "         0.45828887, 0.57881743, 0.65212112, 0.33458358, 0.57296761,\n",
       "         0.55835059, 0.49750373, 0.52978594, 0.42926402, 0.54348209,\n",
       "         0.44945844, 0.39622307, 0.62138398, 0.36179976, 0.64057211,\n",
       "         0.57838958, 0.36778439, 0.60467819, 0.42252342, 0.49145571,\n",
       "         0.61046302, 0.34017722, 0.51588379, 0.54365142, 0.40580929,\n",
       "         0.4334447 , 0.41091338, 0.53213523, 0.41643628, 0.43117262,\n",
       "         0.69939503, 0.42259742, 0.45760058, 0.52454397, 0.70639769,\n",
       "         0.40946302, 0.59948819, 0.54491355, 0.59378011, 0.44621775,\n",
       "         0.68413034, 0.43564209, 0.34061758, 0.52859643, 0.51900601,\n",
       "         0.26974784, 0.28693761, 0.60169291, 0.35167806, 0.51173785,\n",
       "         0.32856791, 0.73150159, 0.19037789, 0.63841344, 0.6074211 ,\n",
       "         0.50417679, 0.43239125, 0.688287  , 0.63497939, 0.35950151,\n",
       "         0.75996625, 0.39929894, 0.4668565 , 0.25201682, 0.96548192,\n",
       "         0.16022643, 0.53783757, 0.4696447 , 0.5292474 , 0.44283274,\n",
       "         0.35110663, 0.67279919, 0.35108238, 0.62293991, 0.52114096,\n",
       "         0.37847456, 0.49518558, 0.28675811, 0.59993759, 0.49176063,\n",
       "         0.44281677, 0.60028291, 0.50280144, 0.52873816]),\n",
       "  3,\n",
       "  3],\n",
       " 816.1902474992237,\n",
       " 0,\n",
       " 'The spline has a residual sum of squares fp such that abs(fp-s)/s<=0.001')"
      ]
     },
     "execution_count": 96,
     "metadata": {},
     "output_type": "execute_result"
    }
   ],
   "source": [
    "#Define the parameters\n",
    "k =3 #Degree (both x and y direction)\n",
    "n = 10 #number of control points -1 \n",
    "\n",
    "tx=create_knots(k,n)\n",
    "ty=create_knots(k,n)\n",
    "\n",
    "#Create a B-Spline representation using previous determined knots. \n",
    "bisplrep(x_flat, y_flat, z_flat, kx=k, ky=k, task=-1, s=0, tx=tx, ty=ty, full_output=1)"
   ]
  }
 ],
 "metadata": {
  "kernelspec": {
   "display_name": "IPFD",
   "language": "python",
   "name": "python3"
  },
  "language_info": {
   "codemirror_mode": {
    "name": "ipython",
    "version": 3
   },
   "file_extension": ".py",
   "mimetype": "text/x-python",
   "name": "python",
   "nbconvert_exporter": "python",
   "pygments_lexer": "ipython3",
   "version": "3.12.2"
  }
 },
 "nbformat": 4,
 "nbformat_minor": 2
}
