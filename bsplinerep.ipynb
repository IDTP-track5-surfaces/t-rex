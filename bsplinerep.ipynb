{
 "cells": [
  {
   "cell_type": "code",
   "execution_count": 3,
   "metadata": {},
   "outputs": [],
   "source": [
    "import numpy as np\n",
    "import matplotlib.pyplot as plt\n",
    "from scipy.interpolate import bisplrep, bisplev\n",
    "from scipy import integrate"
   ]
  },
  {
   "cell_type": "code",
   "execution_count": 22,
   "metadata": {},
   "outputs": [],
   "source": [
    "def create_knots(k,n,min=0,max=10):\n",
    "    # Create open-uniform knot vector for a B-spline of degree k and with n+1 control points between the min and max values.  \n",
    "    return np.concatenate(\n",
    "        [(min)*np.zeros(k),\n",
    "         np.linspace(0,max,n),\n",
    "         (max)*np.ones(k)]\n",
    "        )    \n",
    "\n",
    "def fit_Bspline(x,y,z,k,tx,ty):\n",
    "    #Fit B-spline on the given dataset of x,y,z and return its tck form and the total-error.\n",
    "    tck,total_error,_,_=bisplrep(x, y, z, kx=k, ky=k, task=-1, s=0, tx=tx, ty=ty, full_output=1)\n",
    "    depth_loss = 1/(len(z))*total_error #divide by the number of datapoints to get the mean-squared error (MSE).\n",
    "    return tck, depth_loss\n",
    "\n",
    "def curvature_loss(tck, min_x=0, max_x=10, min_y=0, max_y=10): \n",
    "    #Integrate the second derivative of the B-spline, parameterized by tck, w.r.t. x and y over the domain of [min_x,max_x] x [min_y,max_y]\n",
    "    #Computing a double integral is rather computationally expensive, therefore it is suggested to do this computations on a HPC\n",
    "    \n",
    "    #Absolute value of the second derivative of the b-spline w.r.t. x and y respectively\n",
    "    bs_xx = lambda x,y: np.abs(bisplev(x,y,tck,2,0)) \n",
    "    bs_yy = lambda x,y: np.abs(bisplev(x,y,tck,0,2))\n",
    "\n",
    "    #Integrate the absolute value of the second derivatives over the whole x and y domain\n",
    "    curv_loss_x,_ = integrate.dblquad(bs_xx,min_x,max_x,min_y,max_y) \n",
    "    curv_loss_y,_ = integrate.dblquad(bs_yy,min_x,max_x,min_y,max_y)\n",
    "\n",
    "    #Obtain the loss as the total as the sum of the two integrals divided over the domain ((max_x-min_x)*(max_y-min_y))\n",
    "    curv_loss = (1/((max_x-min_x)*(max_y-min_y)))*(curv_loss_x + curv_loss_y)\n",
    "    return curv_loss\n",
    "    \n",
    "def total_loss(depth_loss, curv_loss, kap_1):\n",
    "    #Assert that all the weights (kap_1,...,kap_n) sum up to unity.\n",
    "    return kap_1*depth_loss + (1-kap_1)*curv_loss"
   ]
  },
  {
   "cell_type": "code",
   "execution_count": 23,
   "metadata": {},
   "outputs": [
    {
     "name": "stderr",
     "output_type": "stream",
     "text": [
      "c:\\Anaconda3\\envs\\IPFD\\Lib\\site-packages\\scipy\\integrate\\_quadpack_py.py:1272: IntegrationWarning: The maximum number of subdivisions (50) has been achieved.\n",
      "  If increasing the limit yields no improvement it is advised to analyze \n",
      "  the integrand in order to determine the difficulties.  If the position of a \n",
      "  local difficulty can be determined (singularity, discontinuity) one will \n",
      "  probably gain from splitting up the interval and calling the integrator \n",
      "  on the subranges.  Perhaps a special-purpose integrator should be used.\n",
      "  quad_r = quad(f, low, high, args=args, full_output=self.full_output,\n"
     ]
    }
   ],
   "source": [
    "#This is just an example.\n",
    "\n",
    "#Generate random data points\n",
    "np.random.seed(42)  # For reproducibility\n",
    "x = np.linspace(0, 10, 100)\n",
    "y = np.linspace(0, 10, 100)\n",
    "z = np.random.random((100, 100))\n",
    "\n",
    "# Create a meshgrid from x and y\n",
    "X, Y = np.meshgrid(x, y)\n",
    "\n",
    "# Flatten the meshgrid arrays and z array to pass to bisplrep\n",
    "x_flat = X.flatten()\n",
    "y_flat = Y.flatten()\n",
    "z_flat = z.flatten()\n",
    "\n",
    "# Obtain the border values of the domain. \n",
    "max_x=np.max(x_flat)\n",
    "min_x=np.min(x_flat)\n",
    "max_y=np.max(y_flat)\n",
    "min_y=np.min(y_flat)\n",
    "\n",
    "#Define the parameters\n",
    "k =3 #Degree (both x and y direction)\n",
    "n = 10 # The number of control points (n+1) \n",
    "\n",
    "# Create open-uniform knots over the domain.\n",
    "tx=create_knots(k,n, min_x, max_x)\n",
    "ty=create_knots(k,n, min_y, max_y)\n",
    "\n",
    "#Create a B-Spline representation using previous determined knots on the data and store the depthmap losserror. \n",
    "tck,dm_loss=fit_Bspline(x_flat, y_flat, z_flat, k=k, tx=tx, ty=ty)\n",
    "\n",
    "#Compute the curvature loss\n",
    "curv_loss=curvature_loss(tck, min_x, max_x, min_y, max_y)\n",
    "\n",
    "#Define arbritary weigths for each loss to contribute in the total loss.\n",
    "kap_1=0.5\n",
    "total_loss = total_loss(dm_loss,curv_loss,kap_1)\n",
    "\n",
    "#print the losses\n",
    "print(\"Depthmap loss:\", dm_loss)\n",
    "print(\"Curvature loss:\", curv_loss)\n",
    "print(\"Total loss:\", total_loss)\n"
   ]
  },
  {
   "cell_type": "code",
   "execution_count": 9,
   "metadata": {},
   "outputs": [
    {
     "data": {
      "text/plain": [
       "10000"
      ]
     },
     "execution_count": 9,
     "metadata": {},
     "output_type": "execute_result"
    }
   ],
   "source": [
    "np.size(x_flat)"
   ]
  }
 ],
 "metadata": {
  "kernelspec": {
   "display_name": "IPFD",
   "language": "python",
   "name": "python3"
  },
  "language_info": {
   "codemirror_mode": {
    "name": "ipython",
    "version": 3
   },
   "file_extension": ".py",
   "mimetype": "text/x-python",
   "name": "python",
   "nbconvert_exporter": "python",
   "pygments_lexer": "ipython3",
   "version": "3.12.2"
  }
 },
 "nbformat": 4,
 "nbformat_minor": 2
}
