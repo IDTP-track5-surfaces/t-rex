{
 "cells": [
  {
   "cell_type": "code",
   "execution_count": 89,
   "metadata": {},
   "outputs": [],
   "source": [
    "import numpy as np\n",
    "import matplotlib.pyplot as plt\n",
    "from scipy.interpolate import bisplrep, bisplev\n",
    "from scipy import integrate"
   ]
  },
  {
   "cell_type": "code",
   "execution_count": 116,
   "metadata": {},
   "outputs": [],
   "source": [
    "def create_knots(k,n,min=0,max=10):\n",
    "    # Create open-uniform knot vector for a B-spline of degree k and with n+1 control points between the min and max values.  \n",
    "    return np.concatenate(\n",
    "        [(min)*np.zeros(k),\n",
    "         np.linspace(0,max,n),\n",
    "         (max)*np.ones(k)]\n",
    "        )    \n",
    "\n",
    "def fit_Bspline(x,y,z,k,tx,ty):\n",
    "    #Fit B-spline on the given dataset of x,y,z and return its tck form and the depth-error.\n",
    "    tck,depth_loss,_,_=bisplrep(x, y, z, kx=k, ky=k, task=-1, s=0, tx=tx, ty=ty, full_output=1)\n",
    "    return tck, depth_loss\n",
    "\n",
    "def curvature_loss(tck):\n",
    "    \n",
    "    "
   ]
  },
  {
   "cell_type": "code",
   "execution_count": 118,
   "metadata": {},
   "outputs": [],
   "source": [
    "#This is just an example.\n",
    "\n",
    "#Generate random data points\n",
    "np.random.seed(42)  # For reproducibility\n",
    "x = np.linspace(0, 10, 100)\n",
    "y = np.linspace(0, 10, 100)\n",
    "z = np.random.random((100, 100))\n",
    "\n",
    "# Create a meshgrid from x and y\n",
    "X, Y = np.meshgrid(x, y)\n",
    "\n",
    "# Flatten the meshgrid arrays and z array to pass to bisplrep\n",
    "x_flat = X.flatten()\n",
    "y_flat = Y.flatten()\n",
    "z_flat = z.flatten()\n",
    "\n",
    "#Define the parameters\n",
    "k =3 #Degree (both x and y direction)\n",
    "n = 10 # The number of control points (n+1) \n",
    "\n",
    "tx=create_knots(k,n)\n",
    "ty=create_knots(k,n)\n",
    "\n",
    "#Create a B-Spline representation using previous determined knots on the data and return the error. \n",
    "tck,_=fit_Bspline(x_flat, y_flat, z_flat, k=k, tx=tx, ty=ty)"
   ]
  }
 ],
 "metadata": {
  "kernelspec": {
   "display_name": "IPFD",
   "language": "python",
   "name": "python3"
  },
  "language_info": {
   "codemirror_mode": {
    "name": "ipython",
    "version": 3
   },
   "file_extension": ".py",
   "mimetype": "text/x-python",
   "name": "python",
   "nbconvert_exporter": "python",
   "pygments_lexer": "ipython3",
   "version": "3.12.2"
  }
 },
 "nbformat": 4,
 "nbformat_minor": 2
}
