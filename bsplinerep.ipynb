{
 "cells": [
  {
   "cell_type": "code",
   "execution_count": 2,
   "metadata": {},
   "outputs": [],
   "source": [
    "import numpy as np\n",
    "import matplotlib.pyplot as plt\n",
    "from scipy.interpolate import bisplrep, bisplev\n",
    "\n",
    "#Generate random data points\n",
    "np.random.seed(42)  # For reproducibility\n",
    "x = np.linspace(0, 1, 10)\n",
    "y = np.linspace(0, 1, 10)\n",
    "z = np.random.random((10, 10))\n",
    "\n",
    "# Create a meshgrid from x and y\n",
    "X, Y = np.meshgrid(x, y)\n",
    "\n",
    "# Flatten the meshgrid arrays and z array to pass to bisplrep\n",
    "x_flat = X.flatten()\n",
    "y_flat = Y.flatten()\n",
    "z_flat = z.flatten()"
   ]
  },
  {
   "cell_type": "code",
   "execution_count": 28,
   "metadata": {},
   "outputs": [],
   "source": [
    "#Define the parameters\n",
    "k =3 #Degree (both x and y direction)\n",
    "n = 10 #number of control points -1 \n"
   ]
  },
  {
   "cell_type": "code",
   "execution_count": 48,
   "metadata": {},
   "outputs": [],
   "source": [
    "def create_knots(k,n,size=127):\n",
    "    m=k+n+1\n",
    "    return np.concatenate(\n",
    "        [np.zeros(k),\n",
    "         np.linspace(0,size,n),\n",
    "         (size)*np.ones(k)]\n",
    "    )    "
   ]
  }
 ],
 "metadata": {
  "kernelspec": {
   "display_name": "IPFD",
   "language": "python",
   "name": "python3"
  },
  "language_info": {
   "codemirror_mode": {
    "name": "ipython",
    "version": 3
   },
   "file_extension": ".py",
   "mimetype": "text/x-python",
   "name": "python",
   "nbconvert_exporter": "python",
   "pygments_lexer": "ipython3",
   "version": "3.12.2"
  }
 },
 "nbformat": 4,
 "nbformat_minor": 2
}
