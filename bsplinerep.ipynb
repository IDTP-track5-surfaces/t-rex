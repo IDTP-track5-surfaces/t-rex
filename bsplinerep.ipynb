{
 "cells": [
  {
   "cell_type": "code",
   "execution_count": 128,
   "metadata": {},
   "outputs": [],
   "source": [
    "import numpy as np\n",
    "import matplotlib.pyplot as plt\n",
    "from scipy.interpolate import bisplrep, bisplev\n",
    "from scipy import integrate"
   ]
  },
  {
   "cell_type": "code",
   "execution_count": 184,
   "metadata": {},
   "outputs": [],
   "source": [
    "def create_knots(k,n,min=0,max=10):\n",
    "    # Create open-uniform knot vector for a B-spline of degree k and with n+1 control points between the min and max values.  \n",
    "    return np.concatenate(\n",
    "        [(min)*np.zeros(k),\n",
    "         np.linspace(0,max,n),\n",
    "         (max)*np.ones(k)]\n",
    "        )    \n",
    "\n",
    "def fit_Bspline(x,y,z,k,tx,ty):\n",
    "    #Fit B-spline on the given dataset of x,y,z and return its tck form and the depth-error.\n",
    "    tck,depth_loss,_,_=bisplrep(x, y, z, kx=k, ky=k, task=-1, s=0, tx=tx, ty=ty, full_output=1)\n",
    "    return tck, depth_loss\n",
    "\n",
    "def curvature_loss(tck, min_x=0, max_x=10, min_y=0, max_y=10):\n",
    "    #Integrate the second derivative of the B-spline, parameterized by tck, w.r.t. x and y over the domain of [min_x,max_x] x [min_y,max_y]\n",
    "    #Computing a double integral is rather computationally expensive, therefore a trick is used to only use singular integrals. Alternatively, the Leibniz rule could be used.\n",
    "    bs_x = lambda y: bisplev(max_x,y,tck,1,0)-bisplev(min_x,y,tck,1,0)\n",
    "    bs_y = lambda x: bisplev(x,max_y,tck,0,1)-bisplev(x,min_y,tck,0,1)    \n",
    "\n",
    "    curv_loss_x,_ = integrate.quad(bs_x ,min_y,max_y)\n",
    "    curv_loss_y,_ = integrate.quad(bs_y ,min_x,max_x)\n",
    "\n",
    "    curv_loss = curv_loss_x + curv_loss_y\n",
    "    return curv_loss\n",
    "    "
   ]
  },
  {
   "cell_type": "code",
   "execution_count": 187,
   "metadata": {},
   "outputs": [
    {
     "name": "stdout",
     "output_type": "stream",
     "text": [
      "Depthmap loss: 816.1902474992237\n",
      "Curvature loss: -2.2293483560146647\n"
     ]
    }
   ],
   "source": [
    "#This is just an example.\n",
    "\n",
    "#Generate random data points\n",
    "np.random.seed(42)  # For reproducibility\n",
    "x = np.linspace(0, 10, 100)\n",
    "y = np.linspace(0, 10, 100)\n",
    "z = np.random.random((100, 100))\n",
    "\n",
    "# Create a meshgrid from x and y\n",
    "X, Y = np.meshgrid(x, y)\n",
    "\n",
    "# Flatten the meshgrid arrays and z array to pass to bisplrep\n",
    "x_flat = X.flatten()\n",
    "y_flat = Y.flatten()\n",
    "z_flat = z.flatten()\n",
    "\n",
    "# Obtain the border values of the domain. \n",
    "max_x=np.max(x_flat)\n",
    "min_x=np.min(x_flat)\n",
    "max_y=np.max(y_flat)\n",
    "min_y=np.min(y_flat)\n",
    "\n",
    "#Define the parameters\n",
    "k =3 #Degree (both x and y direction)\n",
    "n = 10 # The number of control points (n+1) \n",
    "\n",
    "# Create open \n",
    "tx=create_knots(k,n, min_x, max_x)\n",
    "ty=create_knots(k,n, min_y, max_y)\n",
    "\n",
    "#Create a B-Spline representation using previous determined knots on the data and store the depthmap losserror. \n",
    "tck,dm_loss=fit_Bspline(x_flat, y_flat, z_flat, k=k, tx=tx, ty=ty)\n",
    "\n",
    "#Compute the curvature loss\n",
    "curv_loss=curvature_loss(tck, min_x, max_x, min_y, max_y)\n",
    "\n",
    "#print the losses\n",
    "print(\"Depthmap loss:\", dm_loss)\n",
    "print(\"Curvature loss:\", curv_loss)\n"
   ]
  }
 ],
 "metadata": {
  "kernelspec": {
   "display_name": "IPFD",
   "language": "python",
   "name": "python3"
  },
  "language_info": {
   "codemirror_mode": {
    "name": "ipython",
    "version": 3
   },
   "file_extension": ".py",
   "mimetype": "text/x-python",
   "name": "python",
   "nbconvert_exporter": "python",
   "pygments_lexer": "ipython3",
   "version": "3.12.2"
  }
 },
 "nbformat": 4,
 "nbformat_minor": 2
}
